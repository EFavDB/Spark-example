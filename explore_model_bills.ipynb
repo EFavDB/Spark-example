{
 "cells": [
  {
   "cell_type": "markdown",
   "metadata": {},
   "source": [
    "### The American Legislative Exchange Council ([ALEC](http://www.alec.org/)) is a proxy for corporations to advance their interests by influencing policies at the level of U.S. state legislatures.\n",
    " \n",
    "#### The influence of ALEC has been discussed in a humorous but alarming [segment](https://www.youtube.com/watch?v=aIMgfBZrrZ8) of the show \"Last Week Tonight with John Oliver\" in November 2014.  For a more in depth look at ALEC, see [ALEC Exposed](http://www.alecexposed.org/wiki/ALEC_Exposed).  \n",
    " \n",
    "#### In this notebook, we'll scrape the [\"model\" bills](http://www.alec.org/model-legislation/) on ALEC's website using **Spark**."
   ]
  },
  {
   "cell_type": "code",
   "execution_count": 1,
   "metadata": {
    "collapsed": false
   },
   "outputs": [],
   "source": [
    "## Get the urls of each ALEC model bill using the libraries bs4 (BeautifulSoup), requests (for parsing the html document), re (regular expressions for filtering)\n",
    "\n",
    "import requests\n",
    "from bs4 import BeautifulSoup\n",
    "from bs4 import SoupStrainer\n",
    "import re"
   ]
  },
  {
   "cell_type": "code",
   "execution_count": 2,
   "metadata": {
    "collapsed": false
   },
   "outputs": [],
   "source": [
    "## parse ALEC page containing links to all model policies\n",
    "models_main = requests.get(\"http://www.alec.org/model-legislation/\")\n",
    "\n",
    "## create BeautifulSoup object from the ALEC html page\n",
    "soupm = BeautifulSoup(models_main.text, \"html.parser\")"
   ]
  },
  {
   "cell_type": "code",
   "execution_count": 3,
   "metadata": {
    "collapsed": false
   },
   "outputs": [],
   "source": [
    "## function to filter in find_all()   \n",
    "def model_legislation(href):\n",
    "    \"\"\" search for keywords in href to filter \n",
    "    Args:\n",
    "        href (str): href value returned by find_all()\n",
    "    Returns:\n",
    "        bool: T if href is a non-empty string containing the pattern\n",
    "    \"\"\"\n",
    "    return href and re.compile(\"model-legislation/\").search(href)\n"
   ]
  },
  {
   "cell_type": "code",
   "execution_count": 4,
   "metadata": {
    "collapsed": false
   },
   "outputs": [
    {
     "name": "stdout",
     "output_type": "stream",
     "text": [
      "694\n"
     ]
    }
   ],
   "source": [
    "## get all model legislation links\n",
    "soupm_filtered = soupm.find_all(\"a\", href = model_legislation)\n",
    "\n",
    "## extract model legistlation URLs from 'a' tags\n",
    "links_list = [link.get('href') for link in soupm_filtered]\n",
    "links_set = set(links_list)\n",
    "\n",
    "## how many URLs are there?\n",
    "print(len(links_set))"
   ]
  },
  {
   "cell_type": "markdown",
   "metadata": {},
   "source": [
    "#### The set of model bill links are stored in `links_set`.  Next we define `scrape_bill()` to scrape the full texts of the bills (one bill per link in `links_set`) and `get_taskforces()` to get the task force labels for the bills (if existing)."
   ]
  },
  {
   "cell_type": "code",
   "execution_count": 5,
   "metadata": {
    "collapsed": false
   },
   "outputs": [],
   "source": [
    "## function to retrieve main text of bill\n",
    "def scrape_bill(href):\n",
    "    \"\"\" Scrape the text from the bill\n",
    "    Args:\n",
    "        href (str): url to model bill\n",
    "    Returns:\n",
    "        a list of - text (str): the scraped text (without xml tags); \n",
    "                    taskf_terms (list): list of 0 or more strings\n",
    "    \"\"\"\n",
    "    try:\n",
    "        r = requests.get(href)\n",
    "        only_tags_with_id_main = SoupStrainer(id=\"main\")\n",
    "        mainsoup = BeautifulSoup(r.text, \"lxml\", parse_only = only_tags_with_id_main)        \n",
    "        text = mainsoup.get_text(' ', strip=True)\n",
    "        \n",
    "        ## extract task force label(s) at bottom of bill\n",
    "        found_taskf_terms = mainsoup.find_all(id = \"related-task-forces\")\n",
    "        if found_taskf_terms:\n",
    "            taskf_terms = (found_taskf_terms[0]\n",
    "                           .get_text('|', strip = True)\n",
    "                           .split('|'))\n",
    "            \n",
    "            return [text, taskf_terms]\n",
    "        else:\n",
    "            return [text, []]\n",
    "    except:\n",
    "        return []"
   ]
  },
  {
   "cell_type": "markdown",
   "metadata": {},
   "source": [
    "#### Create a base RDD of the list (actually set) of links so we can parallelize the scraping"
   ]
  },
  {
   "cell_type": "code",
   "execution_count": 6,
   "metadata": {
    "collapsed": false
   },
   "outputs": [
    {
     "name": "stdout",
     "output_type": "stream",
     "text": [
      "<class 'pyspark.rdd.RDD'>\n"
     ]
    }
   ],
   "source": [
    "linksRDD = sc.parallelize(links_set, 8)\n",
    "print(type(linksRDD))"
   ]
  },
  {
   "cell_type": "markdown",
   "metadata": {},
   "source": [
    "#### Scrape the full text of the bills and their task force label(s).  \n",
    "\n",
    "Create a pair RDD, `billsRDD`, that has elements `(k, v)`, where the `k` is the URL of a bill, and `v` is a list containing `[\"scraped contents of bill\", [\"task force label 1\", \"task force label 2\", ...]]`."
   ]
  },
  {
   "cell_type": "code",
   "execution_count": 7,
   "metadata": {
    "collapsed": false
   },
   "outputs": [],
   "source": [
    "billsRDD = linksRDD.map(lambda x: (x, scrape_bill(x))).cache()"
   ]
  },
  {
   "cell_type": "code",
   "execution_count": 8,
   "metadata": {
    "collapsed": false
   },
   "outputs": [
    {
     "name": "stdout",
     "output_type": "stream",
     "text": [
      "694 bills were successfully scraped of 694 URLs.\n",
      "574 scraped bills have task force labels.\n"
     ]
    }
   ],
   "source": [
    "## How many bills were successfully scraped?\n",
    "scraped_billsRDD = billsRDD.filter(lambda (bill_URL, v): v)\n",
    "\n",
    "print('{0} bills were successfully scraped of {1} URLs.'.format(scraped_billsRDD.count(), len(links_set)))\n",
    "\n",
    "## How many bills were successfully scraped and had task force labels?\n",
    "labeled_billsRDD = scraped_billsRDD.filter(lambda (bill_URL, v): v[1]).cache()\n",
    "\n",
    "print('{0} scraped bills have task force labels.'.format(labeled_billsRDD.count()))"
   ]
  },
  {
   "cell_type": "markdown",
   "metadata": {},
   "source": [
    "#### We'll save analysis of the main contents of the bills for a later time.  For now, let's take a look at the distribution of task forces/categories among the labeled bills.\n",
    "\n",
    "Create a pair RDD, `bills_taskforceRDD`, containing tuples of bill URLs and task force labels."
   ]
  },
  {
   "cell_type": "code",
   "execution_count": 9,
   "metadata": {
    "collapsed": false
   },
   "outputs": [
    {
     "name": "stdout",
     "output_type": "stream",
     "text": [
      "574 bills have at least one task force label\n",
      "10 bills belong to more than 1 task force\n"
     ]
    }
   ],
   "source": [
    "bills_taskforceRDD = (labeled_billsRDD\n",
    "                      .mapValues(lambda v: v[1])\n",
    "                      .cache())\n",
    "\n",
    "## How many bills have at least one task force category?\n",
    "print('{0} bills have at least one task force label'.format(bills_taskforceRDD.count()))\n",
    "\n",
    "## How many bills fall under more than one task force category?\n",
    "print('{0} bills belong to more than 1 task force'.format(bills_taskforceRDD.filter(lambda (b, v): len(v)>1).count()))"
   ]
  },
  {
   "cell_type": "code",
   "execution_count": 10,
   "metadata": {
    "collapsed": false
   },
   "outputs": [
    {
     "name": "stdout",
     "output_type": "stream",
     "text": [
      "[(u'http://www.alec.org/model-legislation/the-parental-choice-scholarship-program-act-universal-eligibility/', [u'Education and Workforce Development']), (u'http://www.alec.org/model-legislation/the-private-property-protection-act/', [u'Energy, Environment and Agriculture']), (u'http://www.alec.org/model-legislation/uniform-bail-act/', [u'Justice Performance Project'])]\n"
     ]
    }
   ],
   "source": [
    "## Take a look at a few of the task force labels\n",
    "print(bills_taskforceRDD.take(3))"
   ]
  },
  {
   "cell_type": "markdown",
   "metadata": {},
   "source": [
    "#### Next, let's determine how many bills fall into each task force/category.  Note, some bills fall into multiple categories, e.g. with tuples (bill A, [category 1, category 2, ...])"
   ]
  },
  {
   "cell_type": "code",
   "execution_count": 11,
   "metadata": {
    "collapsed": false
   },
   "outputs": [],
   "source": [
    "## Define count_tuple, a helper function that maps each task force label of a bill to a key-value pair with value 1 to facilitate counting.\n",
    "def count_tuple(bill):\n",
    "    \"\"\" Map a tuple of a bill_URL and split it into 1 or more (the same number as the number of task forces) tuples\n",
    "        (bill A, [category 1, category 2, ...]) -> [(category 1, 1), (category 2, 1)]\n",
    "    Args:\n",
    "        bill (tuple): (k, v): k is the bill_URL, v is a list of strings (task force categories) of length 1 or more\n",
    "    Returns:\n",
    "        a list of tuples \n",
    "    \"\"\"\n",
    "    categories = bill[1]\n",
    "    return [(task_force, 1) for task_force in categories]\n",
    "\n",
    "bills_per_taskfRDD = (bills_taskforceRDD\n",
    "                      .flatMap(count_tuple)\n",
    "                      .reduceByKey(lambda a, b: a + b)\n",
    "                      .cache())"
   ]
  },
  {
   "cell_type": "code",
   "execution_count": 12,
   "metadata": {
    "collapsed": false
   },
   "outputs": [
    {
     "name": "stdout",
     "output_type": "stream",
     "text": [
      "There are 9 task force categories\n"
     ]
    }
   ],
   "source": [
    "## How many (distinct) task force categories are there?\n",
    "print(\"There are {0} task force categories\".format(bills_per_taskfRDD.count()))\n"
   ]
  },
  {
   "cell_type": "code",
   "execution_count": 13,
   "metadata": {
    "collapsed": false
   },
   "outputs": [
    {
     "data": {
      "text/plain": [
       "[(u'Energy, Environment and Agriculture', 119),\n",
       " (u'Commerce, Insurance and Economic Development', 109),\n",
       " (u'Tax and Fiscal Policy', 92),\n",
       " (u'Education and Workforce Development', 65),\n",
       " (u'Civil Justice', 56),\n",
       " (u'Justice Performance Project', 46),\n",
       " (u'Federalism and International Relations', 42),\n",
       " (u'Health and Human Services', 37),\n",
       " (u'Communications and Technology', 18)]"
      ]
     },
     "execution_count": 13,
     "metadata": {},
     "output_type": "execute_result"
    }
   ],
   "source": [
    "## View all the categories with their associated counts\n",
    "bills_per_taskfRDD.sortBy(lambda x: -x[1]).collect()"
   ]
  },
  {
   "cell_type": "code",
   "execution_count": 14,
   "metadata": {
    "collapsed": false
   },
   "outputs": [
    {
     "name": "stdout",
     "output_type": "stream",
     "text": [
      "num_bills task_force          \n",
      "109       Commerce, Insuran...\n",
      "119       Energy, Environme...\n",
      "18        Communications an...\n",
      "56        Civil Justice       \n",
      "37        Health and Human ...\n",
      "92        Tax and Fiscal Po...\n",
      "65        Education and Wor...\n",
      "46        Justice Performan...\n",
      "42        Federalism and In...\n"
     ]
    }
   ],
   "source": [
    "from pyspark.sql import Row\n",
    "# Create a DataFrame and visualize using show()\n",
    "taskforceRow = bills_per_taskfRDD.map(lambda (x, y): Row(task_force=x, num_bills=y))\n",
    "taskforceDF = sqlContext.createDataFrame(taskforceRow)\n",
    "taskforceDF.show()"
   ]
  }
 ],
 "metadata": {
  "kernelspec": {
   "display_name": "Python 2",
   "language": "python",
   "name": "python2"
  },
  "language_info": {
   "codemirror_mode": {
    "name": "ipython",
    "version": 2
   },
   "file_extension": ".py",
   "mimetype": "text/x-python",
   "name": "python",
   "nbconvert_exporter": "python",
   "pygments_lexer": "ipython2",
   "version": "2.7.6"
  }
 },
 "nbformat": 4,
 "nbformat_minor": 0
}
